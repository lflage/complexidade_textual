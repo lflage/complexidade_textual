{
 "cells": [
  {
   "cell_type": "markdown",
   "metadata": {},
   "source": [
    "# Teste modelo NILC"
   ]
  },
  {
   "cell_type": "code",
   "execution_count": 7,
   "metadata": {},
   "outputs": [],
   "source": [
    "from gensim.models import KeyedVectors"
   ]
  },
  {
   "cell_type": "code",
   "execution_count": 8,
   "metadata": {},
   "outputs": [],
   "source": [
    "Lugar de Falomodel = KeyedVectors.load_word2vec_format('./word2vec_vectors/skip_s300.txt')"
   ]
  },
  {
   "cell_type": "code",
   "execution_count": 13,
   "metadata": {},
   "outputs": [
    {
     "data": {
      "text/plain": [
       "0.5057876408100128"
      ]
     },
     "execution_count": 13,
     "metadata": {},
     "output_type": "execute_result"
    }
   ],
   "source": [
    "model.distance(\"cachorro\", \"elefante\")"
   ]
  },
  {
   "cell_type": "code",
   "execution_count": 14,
   "metadata": {},
   "outputs": [
    {
     "data": {
      "text/plain": [
       "0.35439300537109375"
      ]
     },
     "execution_count": 14,
     "metadata": {},
     "output_type": "execute_result"
    }
   ],
   "source": [
    "model.distance(\"cachorro\", \"gato\")"
   ]
  },
  {
   "cell_type": "code",
   "execution_count": 15,
   "metadata": {},
   "outputs": [
    {
     "data": {
      "text/plain": [
       "0.5242407619953156"
      ]
     },
     "execution_count": 15,
     "metadata": {},
     "output_type": "execute_result"
    }
   ],
   "source": [
    "model.distance(\"cachorro\", \"homem\")"
   ]
  },
  {
   "cell_type": "code",
   "execution_count": 16,
   "metadata": {},
   "outputs": [
    {
     "data": {
      "text/plain": [
       "0.6081846356391907"
      ]
     },
     "execution_count": 16,
     "metadata": {},
     "output_type": "execute_result"
    }
   ],
   "source": [
    "model.distance(\"gato\", \"homem\")"
   ]
  },
  {
   "cell_type": "markdown",
   "metadata": {},
   "source": [
    "# Teste Código Leitura de Redações"
   ]
  },
  {
   "cell_type": "code",
   "execution_count": null,
   "metadata": {},
   "outputs": [],
   "source": [
    "from document import Document\n",
    "import os\n",
    "import re"
   ]
  },
  {
   "cell_type": "code",
   "execution_count": null,
   "metadata": {},
   "outputs": [],
   "source": [
    "prog = re.compile('(\\.xml)$')\n",
    "prop = re.compile('(prompt)')\n",
    "doc_list = []\n",
    "sair = \"\"\n",
    "\n",
    "f = []\n",
    "fps = []\n",
    "for dirpath, dirnames, filenames in os.walk(\"./corpora/Redações\"):\n",
    "    for filename in filenames:\n",
    "        fps.append(os.path.normpath(os.path.join(dirpath,filename)))\n",
    "for path in fps:\n",
    "    if re.search(prog,path):\n",
    "        f.append(path)\n",
    "        doc_list.append(Document(path))"
   ]
  },
  {
   "cell_type": "code",
   "execution_count": 8,
   "metadata": {},
   "outputs": [
    {
     "name": "stdout",
     "output_type": "stream",
     "text": [
      "\n",
      "\n",
      "No dia 12 de julho deste ano, o jornal Folha de S. Paulo Leia as reflexões sobre o assunto   \n",
      "\n",
      "\n",
      " Em noventa  , após vinte anos de ditadura militar no Brasil, o povo elege democraticamente o seu primeiro Presidente da República. Com o passar das eleições, o voto nulo tem um aumento significativo, expressado por uma minoria da população, mas será que o voto nulo é valido  ?\n",
      "         É preciso  antes de tudo, saber o que leva o cidadão a votar nulo. O voto nulo está ligado diretamente a uma forma de protesto, mostrando a insatisfação ou descrença com à  política é  os políticos atuais, são  vários escândalos  como o mensalão, que força  cada vez mais os eleitores a votarem nulo.\n",
      "         Além disso, à  democracia nos assegura o direito constitucional, tornando o voto nulo válido. Grande parte da população brasileira, ainda são leigos  quando o assunto é política, muita das vezes interpreta mal o real significado do voto nulo,\n",
      "         sendo assim com tal ignorância, como diria Thomas Hobbes : O homem é o lobo do homem. Portanto, desde a ditadura militar, a consciência política da população brasileira vem aumento  , mas, para o voto nulo ganhar mais forças  , deve-se implementar uma\n",
      "         nova grade específica sobre política, em todas escolas publicas  , do ensino fundamental ao médio, a mídia deve constantemente consciêntizar  cada vez mais a população sobre à  política,\n",
      "         só assim teremos um voto nulo totalmente válido. \n",
      "\n",
      "\n",
      "Em alguns meses, estaremos enfrentando as urnas novamente para escolher alguns de nossos representantes para o país , que não é uma tarefa muito fácil. Nesse  ano de eleições  podemos observar que as pessoas estão com uma visão diferente, que esperam que aconteça uma verdadeira mudança na nossa politica  . Acompanhamos uma serie  de protestos no Brasil inteiro, querendo um basta em toda corrupção e em falsas promessas. Mas, será que é através de protestos nas ruas que iremos conseguir alguma mudança?\n",
      "         A arma principal para isso acontecer é  as urnas, é nosso voto. Onde  teremos o poder nas nossas mãos para decidirmos o futuro do nosso país, essa  sim é a melhor forma de protestar com consciência e dignidade.\n",
      "         A hora de protestar é agora, então não desperdice seu voto. Votando nulo  você se mostrara  que não está satisfeito com a situação, mas também não apresentara  nenhuma forma de solucionar o problema e estará \"jogando fora\" um de seus maiores diretos.\n",
      "         Portanto, pense na consequência e no peso de seu voto para o nosso país, não  basta apresentar apenas os problemas e as falhas, você também pode ajudar a resolver todos eles. Vote consciente. \n",
      "\n",
      "\n",
      "As ciclovias estão sendo bastante útil  para população. Estimula  as pessoas ter mais consciência com relação ao meio ambiente, as bicicletas ocupam menos espaço nas vias, é  um meio de transporte eficaz. Portanto em muitas cidades já tem varios pontos de bikes nos centros  facilitando a mobilidade urbana .\n",
      "         Nas grandes cidades  a mobilidade urbana, torna-se dificil cada vez mais  , com o grande fluxo de veículos em circulação, como por exemplo: Na  cidade de salvador  pela manhã é um engarrafamento diáriamente pela  grande\n",
      "         quantidade de veículos e pouca estrada e por não ter vias alternativas ou seja não precisa ser um acidente para um grande consgetionamento  na capital . Acontece muito isso, contribuindo com a população sonora e poluição do ar  , liberando comburente sendo prejudicial ao meio ambiente. Por isso  a impôrtancia  das bicicletas, não serve  somente para lazer e sim  para se locomover com faclidade, o gorveno  implantou e divulgar  para as pessoas atraves de propagandas  \"venha de bike\" cabe a muitos motoristas ainda aceitar e respeitar os ciclistas no trânsito.\n",
      "         Além disso  é um exercício benéfico para todos, pedalar  até seu destino, para  não ter que enfrentar coletivos lotatos  e pegar engarrafamentos, muito  optam por esse meio.\n",
      "         Portanto, Deve-se existir o ciclismo para sociedade , conscientizar mais o povo brasileiro, com objetivo de fazer dessa um meio de trânsporte  mais viavél  . Implatar  também bombas  caso pneu esteja mucho  ,\n",
      "         ou algum numero  de uma assistência proxima  de cada ponto para quer  estejam sempre disponíveis. \n",
      "\n",
      "\n",
      "Ao adotar a urna eletrônica como instrumento eleitoral na década de 90, o governo brasileiro disponibilizou a opção do voto nulo, entendendo que esta seria também uma forma legítima de participação política. Contudo, ainda se discute se o voto nulo representa mesmo uma forma de participação na democracia. Votar nulo significa, na prática, abster-se do direito de escolher um representante político em uma eleição. Sendo assim, muitos defendem que esse não é um ato político válido, uma vez que isso significaria deixar que os demais escolhessem um candidato; por outro lado, há quem diga que não escolher um candidato constitui uma forma legítima e até decorosa de protesto, em contraste com o que acontece nas manifestações no Brasil. Estas  são as principais ideias colocadas em debate acerca do voto nulo, mas existe ainda uma terceira ideia não muito discutida, porém válida.\n",
      "         Durante a campanha eleitoral é possível que o cidadão não encontre um candidato que possa representa-lo  dignamente (principalmente se a eleição determinará a ocupação de apenas um cargo), tendo que se submeter à prática de escolher o “menos pior”. Apesar de parecer uma situação bastante incomum (principalmente no Brasil, onde se fala de pluralidade política), deve-se considerar que a maioria dos partidos brasileiros – senão todos – pertencem a espectros políticos semelhantes, sendo estes situados entre a esquerda e o centro.\n",
      "         Sob essa ótica , o voto nulo é uma forma de o cidadão declarar que não há candidato apto a representá-lo na esfera de administração pública, constituindo assim, um ato político válido. \n",
      "\n",
      "\n",
      "Há uma grande polêmica e insatisfação, por parte da população, sobre a política em nosso país. A cada quatro anos ocorre a eleição presidencial e finalmente o povo tem o poder de decidir que mãos irão governar a República do Brasil. Desde que a democracia é válida, um cidadão tem o direito de votar e escolher a melhor opção para o seu voto. Porém, votar nulo é uma boa opção? Muitas pessoas consideram o voto nulo como uma forma de protesto contra todas as irregularidades políticas, como corrupção, intransparência e má administração do dinheiro público. Entretanto, por mais que a nossa situação política não seja satisfatória e nenhum dos candidatos à presidência nos agrade, devemos levar em conta que votar nulo contribui para que a situação permaneça a mesma. Votar nulo é uma forma de protesto ineficaz e sem sentido. De todas as ideias para um “bom candidato”, é preciso filtrar as opções disponíveis, e chegar ao candidato que mais condiz com um presidente. Agir dentro dos conformes e tomar uma atitude é o verdadeiro poder de um eleitor, o que fará com que o país realmente mude. \n",
      "\n",
      "\n",
      "Desconfiança, medo e desonestidade são alguns dos aspectos  que levam alguns eleitores a tomar a atitude de anular seu voto. Este  ato talvez não mude os resultados mais  ameniza o “peso” na conciência de quem irá votar. Não há opções  só desepicões  , votar em quem?\n",
      "         O voto nulo é o única meio para protestar contra a obrigação de votar, em um país dito de direito como nosso onde seu art.1 revela, não deveria impor ao povo votar, já que estamos vivendo uma \"democracia\"  não seria necessário\n",
      "         . A sociedade tem que escolher melhor seus representantes, ou a forma das eleições deveriam ser mais rígidas para os candidatos , pois  o que se ver  é algo contrário  as pessoas são persuadidas com coisas futéil  , dando vazão para um qualquer decidir o futuro de uma nação que precisa de muito mais que palavras e promessas.\n",
      "         Anular o voto também é exercer a cidadania e ainda mais, uma forma valente de não deixar-se  levar por discursos bem elaborados que não surtem nenhum efeito,\n",
      "         após a posse do cadidato, por sua vez não vale muito, pois são poucos ainda que conhece  um modo de não compactuar com os corruptos que corronpem  a humanidade com palavras ênfaticas  .\n",
      "         Enquanto votar for obrigação averá nulos, a única  saída é a transparência  tanto dos candidatos  quanto do povo eliminar a venda de sua vontade . Obrigrar  não resolve, aliás, acabou o período de regime ditatorial para começar  uma democracia, está  mudança tem que começar nas urnas. \n",
      "\n",
      "\n",
      "Com um sistema político faliu, muitos eleitores vêm desistindo de arriscar seus votos em candidatos e optam pelo voto nulo.\n",
      "         Como o Candidato  a um cargo eleitoral vem tendo sua imagem desgastada por conta de suas antigas promessas não cumpridas  os atos exorbitantes que de  nada favorece  o eleitor  , fez  com que\n",
      "         o mesmo perdesse sua confiança  preferindo anular seu voto.\n",
      "         No entanto  no horário eleitoral  q é uma ótima forma de divulgação de candidaturas e de suas propostas  não há espaço para uma maior informação sobre esse tipo de voto  que muitos ainda desconhecem  causando o uso indevido de votos por alguns que o gastam em qualquer candidato somente por obrigação. Contudo, para evitar esse uso indevido desse voto que é uma arma favorável nas mãos dos brasileiros, os meios de comunicação deveriam explorá-lo mais, mostrando o  como um manifesto legal e inteligente por parte dos eleitores. \n",
      "\n",
      "\n",
      "A história da democracia está iniludivelmente ligada à história do voto. Este foi uma conquista tardia da comunidade internacional, alcançando seu auge no século XX, quando o regime democrático-representativo se consolidara na maioria dos países. Nos dias atuais, o voto chegou a ser, dado o seu grande valor, obrigatório em alguns países, o que não impede o cidadão de anular seu voto, desde que com a devida justificativa. Assim, alguns não comparecem à sessão eleitoral correspondente por preguiça, indiferença; porém, outros entendem que o voto nulo é um ato político. Será mesmo? A questão apresentada é complexa, dividindo, inclusive, opiniões dos mais notáveis intelectuais pátrios. Isso porque  ao anular o voto, comovido pela insatisfação subjetiva com a estrutura política, não se anulam as eleições. Em outras palavras, um candidato sempre tomará posse, independentemente dos votos nulos.\n",
      "         Mas pensar objetivamente apenas em números, analisando-se tão somente o resultado final, é um ledo engano. O voto nulo tem um conteúdo político deveras importante, pois expressa uma forma de protesto e descrença na estrutura política vigente. A ordem constitucional brasileira nos aconselha a respeitar a liberdade política alheia, interpretando-a como uma genuína manifestação política. Ninguém é obrigado a votar em A ou em B, por isso existe o voto em branco. Doutra sorte, ninguém pode ser constrangido a crer em um sistema político, cuja corrupção e história desgastante não lograram credibilidade. Vênia concessa aos que pensam diferente, não se pode, em um sistema que se diz democrático, asseverar que o voto nulo não é um ato político . Cada pessoa, considerada em sua individualidade, é capaz de lançar mão de sua liberdade política de acordo com suas crenças e de optar por aquilo que melhor lhe aprouver. A descrença na estrutura política não uma moda inventada do nada, posto que possui razões fáticas suficientes para demonstrar a todos a insatisfação por que passa um grupo de pessoas descrentes na política nacional. \n",
      "\n",
      "\n",
      "O direito de votar sempre foi um embate na história do Brasil,  Dentro desta  perspectiva, o voto nulo passou a ser analisado recentemente, como forte influência no destino político do país.\n",
      "         Dessa forma, a partir do posicionamento de estudiosos , a anulação do voto é vista como forma de protesto do sistema político, caracterizando uma medida limpa, e consequentemente, abrangente às classes como um todo. Além disso, devido a uma maioridade de votos nulos, haverá a necessidade de governantes e autoridades repensarem, a fim de haja busca de alternativas, isto é, um revisão apta a reformas no panorama político. A consciência coletiva precisa, portanto, abster-se da ideia de que o voto nulo não muda nada, e o mais importante, fazer de seu uso como espelho de insatisfação . Sendo assim, o voto nulo é um meio onde a sociedade se manifesta, ou seja, reflete melhorias concretas que o tanto o Brasil necessita. \n"
     ]
    }
   ],
   "source": [
    "# while sair != \"n\":\n",
    "#     n = int(input(\"Insira o número da redação a ser lida\"))\n",
    "#     doc_list[n].read()\n",
    "#     print(doc_list[n].get_title())\n",
    "#     print(doc_list[n].get_body())\n",
    "#     sair = input(\"Deseja continuar? s ou n?\")\n",
    "\n",
    "for doc in doc_list[0:10]:\n",
    "    doc.read()\n",
    "    #print (doc.get_body())\n",
    "    print('\\n')\n",
    "    redacao = doc.get_body()\n",
    "    print(redacao)\n"
   ]
  },
  {
   "cell_type": "code",
   "execution_count": 3,
   "metadata": {
    "scrolled": true
   },
   "outputs": [
    {
     "name": "stdout",
     "output_type": "stream",
     "text": [
      "1935\n"
     ]
    }
   ],
   "source": [
    "print(len(doc_list))"
   ]
  },
  {
   "cell_type": "code",
   "execution_count": 5,
   "metadata": {},
   "outputs": [],
   "source": [
    "import nltk.data\n",
    "\n",
    "sent_detector = nltk.data.load('tokenizers/punkt/portuguese.pickle')"
   ]
  },
  {
   "cell_type": "code",
   "execution_count": 9,
   "metadata": {},
   "outputs": [
    {
     "name": "stdout",
     "output_type": "stream",
     "text": [
      "20249\n"
     ]
    }
   ],
   "source": [
    "sent_list = []\n",
    "for doc in doc_list:\n",
    "    doc.read()\n",
    "    redacao = doc.get_body()\n",
    "    sent_list = sent_list + sent_detector.tokenize(redacao)\n",
    "    \n",
    "print(len(sent_list))"
   ]
  },
  {
   "cell_type": "markdown",
   "metadata": {},
   "source": [
    "## Spacy test"
   ]
  },
  {
   "cell_type": "code",
   "execution_count": 6,
   "metadata": {},
   "outputs": [],
   "source": [
    "import spacy\n",
    "\n",
    "nlp = spacy.load('pt_core_news_sm')\n",
    "\n",
    "red = nlp(redacao)"
   ]
  },
  {
   "cell_type": "code",
   "execution_count": 7,
   "metadata": {},
   "outputs": [
    {
     "name": "stdout",
     "output_type": "stream",
     "text": [
      "O direito de votar sempre foi um embate na história do Brasil,  Dentro desta  perspectiva, o voto nulo passou a ser analisado recentemente, como forte influência no destino político do país.\n",
      "         Dessa forma, a partir do posicionamento de estudiosos , a anulação do voto é vista como forma de protesto do sistema político, caracterizando uma medida limpa, e consequentemente, abrangente às classes como um todo. Além disso, devido a uma maioridade de votos nulos, haverá a necessidade de governantes e autoridades repensarem, a fim de haja busca de alternativas, isto é, um revisão apta a reformas no panorama político. A consciência coletiva precisa, portanto, abster-se da ideia de que o voto nulo não muda nada, e o mais importante, fazer de seu uso como espelho de insatisfação . Sendo assim, o voto nulo é um meio onde a sociedade se manifesta, ou seja, reflete melhorias concretas que o tanto o Brasil necessita. \n"
     ]
    }
   ],
   "source": [
    "print(redacao)"
   ]
  },
  {
   "cell_type": "code",
   "execution_count": 8,
   "metadata": {},
   "outputs": [
    {
     "name": "stdout",
     "output_type": "stream",
     "text": [
      "O DET\n",
      "direito NOUN\n",
      "de ADP\n",
      "votar VERB\n",
      "sempre ADV\n",
      "foi VERB\n",
      "um DET\n",
      "embate NOUN\n",
      "na ADJ\n",
      "história VERB\n",
      "do ADP\n",
      "Brasil PROPN\n",
      ", PUNCT\n",
      "  SPACE\n",
      "Dentro ADV\n",
      "d ADP\n",
      "esta DET\n",
      "  SPACE\n",
      "perspectiva ADJ\n",
      ", PUNCT\n",
      "o DET\n",
      "voto NOUN\n",
      "nulo ADJ\n",
      "passou AUX\n",
      "a ADP\n",
      "ser AUX\n",
      "analisado VERB\n",
      "recentemente ADV\n",
      ", PUNCT\n",
      "como ADP\n",
      "forte ADJ\n",
      "influência NOUN\n",
      "no ADP\n",
      "destino NOUN\n",
      "político ADJ\n",
      "do ADP\n",
      "país NOUN\n",
      ". PUNCT\n",
      "\n",
      "          SPACE\n",
      "Dessa PROPN\n",
      "forma NOUN\n",
      ", PUNCT\n",
      "a ADP\n",
      "partir NOUN\n",
      "do ADP\n",
      "posicionamento NOUN\n",
      "de ADP\n",
      "estudiosos NOUN\n",
      ", PUNCT\n",
      "a DET\n",
      "anulação NOUN\n",
      "do ADP\n",
      "voto NOUN\n",
      "é VERB\n",
      "vista VERB\n",
      "como ADP\n",
      "forma NOUN\n",
      "de ADP\n",
      "protesto NOUN\n",
      "do ADP\n",
      "sistema NOUN\n",
      "político ADJ\n",
      ", PUNCT\n",
      "caracterizando VERB\n",
      "uma DET\n",
      "medida ADJ\n",
      "limpa NOUN\n",
      ", PUNCT\n",
      "e CCONJ\n",
      "consequentemente ADV\n",
      ", PUNCT\n",
      "abrangente ADV\n",
      "à ADP\n",
      "s DET\n",
      "classes NOUN\n",
      "como ADP\n",
      "um DET\n",
      "todo PRON\n",
      ". PUNCT\n",
      "Além ADV\n",
      "d ADP\n",
      "isso PRON\n",
      ", PUNCT\n",
      "devido ADV\n",
      "a ADP\n",
      "uma DET\n",
      "maioridade NOUN\n",
      "de ADP\n",
      "votos NOUN\n",
      "nulos ADJ\n",
      ", PUNCT\n",
      "haverá VERB\n",
      "a DET\n",
      "necessidade NOUN\n",
      "de ADP\n",
      "governantes NOUN\n",
      "e CCONJ\n",
      "autoridades NOUN\n",
      "repensarem VERB\n",
      ", PUNCT\n",
      "a ADP\n",
      "fim NOUN\n",
      "de ADP\n",
      "haja NOUN\n",
      "busca NOUN\n",
      "de ADP\n",
      "alternativas NOUN\n",
      ", PUNCT\n",
      "isto X\n",
      "é X\n",
      ", PUNCT\n",
      "um DET\n",
      "revisão NOUN\n",
      "apta VERB\n",
      "a ADP\n",
      "reformas NOUN\n",
      "no ADP\n",
      "panorama NOUN\n",
      "político ADJ\n",
      ". PUNCT\n",
      "A DET\n",
      "consciência NOUN\n",
      "coletiva ADJ\n",
      "precisa VERB\n",
      ", PUNCT\n",
      "portanto ADV\n",
      ", PUNCT\n",
      "abster VERB\n",
      "- PUNCT\n",
      "se SCONJ\n",
      "da ADP\n",
      "ideia NOUN\n",
      "de ADP\n",
      "que SCONJ\n",
      "o DET\n",
      "voto NOUN\n",
      "nulo ADJ\n",
      "não ADV\n",
      "muda VERB\n",
      "nada PRON\n",
      ", PUNCT\n",
      "e CCONJ\n",
      "o DET\n",
      "mais ADV\n",
      "importante ADJ\n",
      ", PUNCT\n",
      "fazer VERB\n",
      "de ADP\n",
      "seu DET\n",
      "uso NOUN\n",
      "como ADP\n",
      "espelho NOUN\n",
      "de ADP\n",
      "insatisfação NOUN\n",
      ". PUNCT\n",
      "Sendo VERB\n",
      "assim ADV\n",
      ", PUNCT\n",
      "o DET\n",
      "voto NOUN\n",
      "nulo ADJ\n",
      "é VERB\n",
      "um DET\n",
      "meio NOUN\n",
      "onde ADV\n",
      "a DET\n",
      "sociedade NOUN\n",
      "se PRON\n",
      "manifesta PUNCT\n",
      ", PUNCT\n",
      "ou X\n",
      "seja X\n",
      ", PUNCT\n",
      "reflete VERB\n",
      "melhorias NOUN\n",
      "concretas ADJ\n",
      "que PRON\n",
      "o DET\n",
      "tanto NOUN\n",
      "o DET\n",
      "Brasil PROPN\n",
      "necessita VERB\n",
      ". PUNCT\n"
     ]
    }
   ],
   "source": [
    "for token in red:\n",
    "    print(token, token.pos_)"
   ]
  },
  {
   "cell_type": "code",
   "execution_count": 18,
   "metadata": {},
   "outputs": [
    {
     "name": "stdout",
     "output_type": "stream",
     "text": [
      "5\n"
     ]
    }
   ],
   "source": [
    "prons = [token for token in red if token.pos_==\"PRON\"]\n",
    "print(len(prons))"
   ]
  },
  {
   "cell_type": "code",
   "execution_count": 9,
   "metadata": {
    "scrolled": true
   },
   "outputs": [
    {
     "name": "stdout",
     "output_type": "stream",
     "text": [
      "Brasil LOC\n",
      "\n",
      "          LOC\n",
      "Brasil LOC\n"
     ]
    }
   ],
   "source": [
    "for entity in red.ents:\n",
    "    print(entity.text, entity.label_)"
   ]
  },
  {
   "cell_type": "markdown",
   "metadata": {},
   "source": [
    "# Sequências mais frequentes"
   ]
  },
  {
   "cell_type": "code",
   "execution_count": 8,
   "metadata": {},
   "outputs": [],
   "source": [
    "import nltk.data\n",
    "import spacy\n",
    "from document import Document\n",
    "import re, os\n",
    "\n",
    "nlp = spacy.load(\"pt_core_news_sm\")"
   ]
  },
  {
   "cell_type": "code",
   "execution_count": 9,
   "metadata": {},
   "outputs": [],
   "source": [
    "prog = re.compile('(\\.xml)$')\n",
    "prop = re.compile('(prompt)')\n",
    "doc_list = []\n",
    "sair = \"\"\n",
    "\n",
    "f = []\n",
    "fps = []\n",
    "for dirpath, dirnames, filenames in os.walk(\"./corpora/Redações\"):\n",
    "    for filename in filenames:\n",
    "        fps.append(os.path.normpath(os.path.join(dirpath,filename)))\n",
    "for path in fps:\n",
    "    if re.search(prog,path):\n",
    "        f.append(path)\n",
    "        doc_list.append(Document(path))"
   ]
  },
  {
   "cell_type": "code",
   "execution_count": 10,
   "metadata": {},
   "outputs": [
    {
     "name": "stdout",
     "output_type": "stream",
     "text": [
      "ADP\n",
      "NOUN\n",
      "NUM\n",
      "ADP\n",
      "NOUN\n",
      "ADP\n",
      "DET\n",
      "NOUN\n",
      "PUNCT\n",
      "DET\n",
      "NOUN\n",
      "PROPN\n",
      "ADP\n",
      "PROPN\n",
      "PROPN\n",
      "PROPN\n",
      "DET\n",
      "NOUN\n",
      "ADP\n",
      "DET\n",
      "NOUN\n",
      "SPACE\n",
      "ADP\n",
      "NOUN\n",
      "SPACE\n",
      "PUNCT\n",
      "ADP\n",
      "NUM\n",
      "SYM\n",
      "ADP\n",
      "NOUN\n",
      "ADJ\n",
      "PRON\n",
      "PROPN\n",
      "PUNCT\n",
      "DET\n",
      "NOUN\n",
      "ADJ\n",
      "ADV\n",
      "DET\n",
      "DET\n",
      "ADJ\n",
      "NOUN\n",
      "ADP\n",
      "PROPN\n",
      "PUNCT\n",
      "ADP\n",
      "PRON\n",
      "VERB\n",
      "ADJ\n",
      "NOUN\n",
      "PUNCT\n",
      "DET\n",
      "NOUN\n",
      "ADJ\n",
      "VERB\n",
      "DET\n",
      "NOUN\n",
      "ADJ\n",
      "PUNCT\n",
      "VERB\n",
      "ADP\n",
      "DET\n",
      "NOUN\n",
      "ADP\n",
      "NOUN\n",
      "PUNCT\n",
      "CCONJ\n",
      "VERB\n",
      "SCONJ\n",
      "DET\n",
      "NOUN\n",
      "ADJ\n",
      "AUX\n",
      "VERB\n",
      "SPACE\n",
      "PUNCT\n",
      "VERB\n",
      "ADJ\n",
      "SPACE\n",
      "ADV\n",
      "ADP\n",
      "PRON\n",
      "PUNCT\n",
      "VERB\n",
      "X\n",
      "PRON\n",
      "VERB\n",
      "DET\n",
      "NOUN\n",
      "ADP\n",
      "VERB\n",
      "ADJ\n",
      "PUNCT\n",
      "DET\n",
      "NOUN\n",
      "ADJ\n",
      "VERB\n",
      "VERB\n",
      "ADV\n",
      "ADP\n",
      "DET\n",
      "NOUN\n",
      "ADP\n",
      "NOUN\n",
      "PUNCT\n",
      "VERB\n",
      "DET\n",
      "NOUN\n",
      "CCONJ\n",
      "NOUN\n",
      "ADP\n",
      "DET\n",
      "SPACE\n",
      "ADJ\n",
      "VERB\n",
      "SPACE\n",
      "DET\n",
      "SYM\n",
      "ADJ\n",
      "PUNCT\n",
      "VERB\n",
      "SPACE\n",
      "DET\n",
      "NOUN\n",
      "SPACE\n",
      "ADP\n",
      "DET\n",
      "NOUN\n",
      "PUNCT\n",
      "PRON\n",
      "VERB\n",
      "SPACE\n",
      "NOUN\n",
      "ADP\n",
      "NOUN\n",
      "DET\n",
      "SYM\n",
      "ADP\n",
      "VERB\n",
      "ADJ\n",
      "PUNCT\n",
      "ADV\n",
      "ADP\n",
      "PRON\n",
      "PUNCT\n",
      "DET\n",
      "SPACE\n",
      "NOUN\n",
      "PRON\n",
      "VERB\n",
      "DET\n",
      "NOUN\n",
      "ADJ\n",
      "PUNCT\n",
      "VERB\n",
      "DET\n",
      "NOUN\n",
      "ADJ\n",
      "ADJ\n",
      "PUNCT\n",
      "ADJ\n",
      "NOUN\n",
      "ADP\n",
      "NOUN\n",
      "ADJ\n",
      "PUNCT\n",
      "ADV\n",
      "VERB\n",
      "NOUN\n",
      "SPACE\n",
      "ADV\n",
      "DET\n",
      "NOUN\n",
      "VERB\n",
      "NOUN\n",
      "PUNCT\n",
      "DET\n",
      "VERB\n",
      "NOUN\n",
      "VERB\n",
      "ADV\n",
      "DET\n",
      "NOUN\n",
      "NOUN\n",
      "ADP\n",
      "NOUN\n",
      "ADJ\n",
      "PUNCT\n",
      "SPACE\n",
      "AUX\n",
      "ADV\n",
      "ADP\n",
      "DET\n",
      "NOUN\n",
      "PUNCT\n",
      "ADV\n",
      "VERB\n",
      "PROPN\n",
      "PROPN\n",
      "PUNCT\n",
      "DET\n",
      "NOUN\n",
      "VERB\n",
      "DET\n",
      "NOUN\n",
      "ADP\n",
      "NOUN\n",
      "PUNCT\n",
      "ADV\n",
      "PUNCT\n",
      "ADP\n",
      "DET\n",
      "NOUN\n",
      "ADJ\n",
      "PUNCT\n",
      "DET\n",
      "NOUN\n",
      "ADJ\n",
      "ADP\n",
      "NOUN\n",
      "ADJ\n",
      "VERB\n",
      "NOUN\n",
      "SPACE\n",
      "PUNCT\n",
      "CCONJ\n",
      "PUNCT\n",
      "ADP\n",
      "DET\n",
      "NOUN\n",
      "ADJ\n",
      "VERB\n",
      "DET\n",
      "NOUN\n",
      "SPACE\n",
      "PUNCT\n",
      "AUX\n",
      "PUNCT\n",
      "PRON\n",
      "VERB\n",
      "DET\n",
      "SPACE\n",
      "ADJ\n",
      "NOUN\n",
      "ADJ\n",
      "ADP\n",
      "NOUN\n",
      "PUNCT\n",
      "ADP\n",
      "DET\n",
      "NOUN\n",
      "ADJ\n",
      "SPACE\n",
      "PUNCT\n",
      "ADP\n",
      "NOUN\n",
      "ADJ\n",
      "ADP\n",
      "DET\n",
      "NOUN\n",
      "PUNCT\n",
      "DET\n",
      "NOUN\n",
      "AUX\n",
      "ADV\n",
      "VERB\n",
      "SPACE\n",
      "NOUN\n",
      "ADP\n",
      "NOUN\n",
      "DET\n",
      "NOUN\n",
      "ADP\n",
      "DET\n",
      "SPACE\n",
      "ADJ\n",
      "PUNCT\n",
      "SPACE\n",
      "ADV\n",
      "ADV\n",
      "VERB\n",
      "DET\n",
      "NOUN\n",
      "ADJ\n",
      "ADV\n",
      "ADJ\n",
      "PUNCT\n",
      "ADP\n",
      "DET\n",
      "NOUN\n",
      "PUNCT\n",
      "AUX\n",
      "VERB\n",
      "DET\n",
      "NOUN\n",
      "ADV\n",
      "ADP\n",
      "VERB\n",
      "PRON\n",
      "ADP\n",
      "DET\n",
      "SYM\n",
      "ADP\n",
      "DET\n",
      "NOUN\n",
      "PUNCT\n",
      "PRON\n",
      "ADV\n",
      "VERB\n",
      "DET\n",
      "NOUN\n",
      "ADV\n",
      "ADJ\n",
      "PUNCT\n",
      "VERB\n",
      "SPACE\n",
      "NOUN\n",
      "ADP\n",
      "NOUN\n",
      "SPACE\n",
      "AUX\n",
      "VERB\n",
      "SCONJ\n",
      "DET\n",
      "NOUN\n",
      "VERB\n",
      "ADP\n",
      "DET\n",
      "NOUN\n",
      "ADJ\n",
      "PUNCT\n",
      "PRON\n",
      "VERB\n",
      "SCONJ\n",
      "VERB\n",
      "DET\n",
      "ADJ\n",
      "NOUN\n",
      "ADJ\n",
      "DET\n",
      "NOUN\n",
      "SPACE\n",
      "PUNCT\n",
      "VERB\n",
      "DET\n",
      "NOUN\n",
      "SPACE\n",
      "ADP\n",
      "NOUN\n",
      "ADP\n",
      "PROPN\n",
      "ADJ\n",
      "PUNCT\n",
      "VERB\n",
      "DET\n",
      "ADJ\n",
      "ADP\n",
      "DET\n",
      "NOUN\n",
      "CCONJ\n",
      "ADP\n",
      "DET\n",
      "NOUN\n",
      "PUNCT\n",
      "PUNCT\n",
      "PUNCT\n",
      "VERB\n",
      "SCONJ\n",
      "VERB\n",
      "ADV\n",
      "ADP\n",
      "NOUN\n",
      "ADV\n",
      "NOUN\n",
      "PRON\n",
      "AUX\n",
      "VERB\n",
      "DET\n",
      "NOUN\n",
      "PUNCT\n",
      "DET\n",
      "NOUN\n",
      "ADJ\n",
      "ADP\n",
      "PRON\n",
      "VERB\n",
      "VERB\n",
      "SPACE\n",
      "DET\n",
      "NOUN\n",
      "PUNCT\n",
      "VERB\n",
      "DET\n",
      "NOUN\n",
      "PUNCT\n",
      "ADV\n",
      "SPACE\n",
      "VERB\n",
      "DET\n",
      "NOUN\n",
      "ADV\n",
      "DET\n",
      "NOUN\n",
      "ADP\n",
      "VERB\n",
      "DET\n",
      "NOUN\n",
      "ADP\n",
      "DET\n",
      "NOUN\n",
      "PUNCT\n",
      "DET\n",
      "SPACE\n",
      "ADV\n",
      "VERB\n",
      "DET\n",
      "ADJ\n",
      "NOUN\n",
      "ADP\n",
      "VERB\n",
      "ADP\n",
      "NOUN\n",
      "CCONJ\n",
      "NOUN\n",
      "PUNCT\n",
      "DET\n",
      "NOUN\n",
      "ADP\n",
      "VERB\n",
      "VERB\n",
      "ADV\n",
      "PUNCT\n",
      "ADV\n",
      "ADV\n",
      "VERB\n",
      "DET\n",
      "NOUN\n",
      "PUNCT\n",
      "VERB\n",
      "ADJ\n",
      "SPACE\n",
      "PRON\n",
      "PRON\n",
      "VERB\n",
      "SPACE\n",
      "SCONJ\n",
      "ADV\n",
      "VERB\n",
      "VERB\n",
      "ADP\n",
      "DET\n",
      "NOUN\n",
      "PUNCT\n",
      "CCONJ\n",
      "ADV\n",
      "ADV\n",
      "ADV\n",
      "SPACE\n",
      "DET\n",
      "NOUN\n",
      "ADP\n",
      "VERB\n",
      "DET\n",
      "NOUN\n",
      "CCONJ\n",
      "VERB\n",
      "PUNCT\n",
      "VERB\n",
      "ADV\n",
      "PUNCT\n",
      "NUM\n",
      "ADP\n",
      "DET\n",
      "ADJ\n",
      "SYM\n",
      "PUNCT\n",
      "ADV\n",
      "PUNCT\n",
      "VERB\n",
      "DET\n",
      "NOUN\n",
      "CCONJ\n",
      "NOUN\n",
      "NOUN\n",
      "ADP\n",
      "DET\n",
      "NOUN\n",
      "ADP\n",
      "DET\n",
      "DET\n",
      "NOUN\n",
      "PUNCT\n",
      "ADV\n",
      "SPACE\n",
      "VERB\n",
      "VERB\n",
      "ADV\n",
      "DET\n",
      "SYM\n",
      "CCONJ\n",
      "DET\n",
      "NOUN\n",
      "PUNCT\n",
      "PRON\n",
      "ADV\n",
      "AUX\n",
      "VERB\n",
      "ADP\n",
      "VERB\n",
      "DET\n",
      "PRON\n",
      "PUNCT\n",
      "NOUN\n",
      "ADJ\n",
      "PUNCT\n"
     ]
    }
   ],
   "source": [
    "sent_detector = nltk.data.load('tokenizers/punkt/portuguese.pickle')\n",
    "\n",
    "pos_tuple = ()\n",
    "sent_pos = []\n",
    "for doc in doc_list[0:3]:\n",
    "    doc.read()\n",
    "    redacao = doc.get_body()\n",
    "    red_sents = sent_detector.tokenize(redacao)\n",
    "    for i in red_sents:\n",
    "        sent_nlp = nlp(i)\n",
    "        for token in sent_nlp:\n",
    "            \n",
    "            print(token.pos_)\n",
    "            \n",
    "    \n"
   ]
  },
  {
   "cell_type": "markdown",
   "metadata": {},
   "source": [
    "## NLTK WordNet PT"
   ]
  },
  {
   "cell_type": "code",
   "execution_count": 1,
   "metadata": {},
   "outputs": [],
   "source": [
    "from nltk.corpus import wordnet as wn"
   ]
  },
  {
   "cell_type": "code",
   "execution_count": 2,
   "metadata": {},
   "outputs": [
    {
     "data": {
      "text/plain": [
       "[Synset('dog.n.01'),\n",
       " Synset('frump.n.01'),\n",
       " Synset('dog.n.03'),\n",
       " Synset('cad.n.01'),\n",
       " Synset('frank.n.02'),\n",
       " Synset('pawl.n.01'),\n",
       " Synset('andiron.n.01'),\n",
       " Synset('chase.v.01')]"
      ]
     },
     "execution_count": 2,
     "metadata": {},
     "output_type": "execute_result"
    }
   ],
   "source": [
    " wn.synsets('dog')"
   ]
  },
  {
   "cell_type": "code",
   "execution_count": 34,
   "metadata": {},
   "outputs": [
    {
     "data": {
      "text/plain": [
       "[Synset('card.n.01'),\n",
       " Synset('playing_card.n.01'),\n",
       " Synset('printed_circuit.n.01'),\n",
       " Synset('letter.n.01'),\n",
       " Synset('epistle.n.01'),\n",
       " Synset('paper.n.01')]"
      ]
     },
     "execution_count": 34,
     "metadata": {},
     "output_type": "execute_result"
    }
   ],
   "source": [
    "wn.synsets('carta',lang='por')"
   ]
  },
  {
   "cell_type": "code",
   "execution_count": 31,
   "metadata": {},
   "outputs": [
    {
     "data": {
      "text/plain": [
       "[]"
      ]
     },
     "execution_count": 31,
     "metadata": {},
     "output_type": "execute_result"
    }
   ],
   "source": [
    "wn.synsets('corgi.n.01')"
   ]
  },
  {
   "cell_type": "code",
   "execution_count": 39,
   "metadata": {},
   "outputs": [
    {
     "data": {
      "text/plain": [
       "'a material made of cellulose pulp derived mainly from wood or rags or certain grasses'"
      ]
     },
     "execution_count": 39,
     "metadata": {},
     "output_type": "execute_result"
    }
   ],
   "source": [
    "wn.synset('paper.n.01').definition()"
   ]
  },
  {
   "cell_type": "markdown",
   "metadata": {},
   "source": [
    "# Estrutura de listas a partir do arquivo parseado"
   ]
  },
  {
   "cell_type": "code",
   "execution_count": 3,
   "metadata": {},
   "outputs": [],
   "source": [
    "import complexidade_textual as ct\n",
    "import re, os"
   ]
  },
  {
   "cell_type": "code",
   "execution_count": 4,
   "metadata": {},
   "outputs": [],
   "source": [
    "def list_tree(path):\n",
    "    split_path = os.path.splitext(path)\n",
    "    parsed_path = \"%s_parsed_%s\" % (split_path[0],'.txt')\n",
    "    utt_list = []\n",
    "    with open(parsed_path,mode='r', encoding='utf8') as file:\n",
    "        utts = re.split(r'\\nsentence\\n', file.read())\n",
    "        for i in utts:\n",
    "            if re.search('UTT',i):\n",
    "                _half = re.split('UTT.+\\n',i)[1]\n",
    "                _half = re.split('\\n\\.',_half)[0]\n",
    "                arvere = ['UTT', ct.recursive_split(_half)]\n",
    "            utt_list.append(arvere)\n",
    "    return utt_list"
   ]
  },
  {
   "cell_type": "code",
   "execution_count": 5,
   "metadata": {},
   "outputs": [
    {
     "name": "stdout",
     "output_type": "stream",
     "text": [
      "0\n",
      "corpora/redacoes_parseadas/redacoes_parseadas/o-voto-nulo-e-um-ato-politico-valido/prompt.xml\n",
      "1\n",
      "corpora/redacoes_parseadas/redacoes_parseadas/o-voto-nulo-e-um-ato-politico-valido/xml/valido-ou-nao.xml\n"
     ]
    },
    {
     "ename": "IndexError",
     "evalue": "list index out of range",
     "output_type": "error",
     "traceback": [
      "\u001b[0;31m---------------------------------------------------------------------------\u001b[0m",
      "\u001b[0;31mIndexError\u001b[0m                                Traceback (most recent call last)",
      "\u001b[0;32m<ipython-input-5-fb469eace6f4>\u001b[0m in \u001b[0;36m<module>\u001b[0;34m\u001b[0m\n\u001b[1;32m      6\u001b[0m     \u001b[0mprint\u001b[0m\u001b[0;34m(\u001b[0m\u001b[0mi\u001b[0m\u001b[0;34m)\u001b[0m\u001b[0;34m\u001b[0m\u001b[0;34m\u001b[0m\u001b[0m\n\u001b[1;32m      7\u001b[0m     \u001b[0mprint\u001b[0m\u001b[0;34m(\u001b[0m\u001b[0mpath\u001b[0m\u001b[0;34m)\u001b[0m\u001b[0;34m\u001b[0m\u001b[0;34m\u001b[0m\u001b[0m\n\u001b[0;32m----> 8\u001b[0;31m     \u001b[0mlist_tree\u001b[0m\u001b[0;34m(\u001b[0m\u001b[0mpath\u001b[0m\u001b[0;34m)\u001b[0m\u001b[0;34m\u001b[0m\u001b[0;34m\u001b[0m\u001b[0m\n\u001b[0m\u001b[1;32m      9\u001b[0m     \u001b[0mi\u001b[0m\u001b[0;34m+=\u001b[0m\u001b[0;36m1\u001b[0m\u001b[0;34m\u001b[0m\u001b[0;34m\u001b[0m\u001b[0m\n",
      "\u001b[0;32m<ipython-input-4-31d9a9940dbc>\u001b[0m in \u001b[0;36mlist_tree\u001b[0;34m(path)\u001b[0m\n\u001b[1;32m      9\u001b[0m                 \u001b[0m_half\u001b[0m \u001b[0;34m=\u001b[0m \u001b[0mre\u001b[0m\u001b[0;34m.\u001b[0m\u001b[0msplit\u001b[0m\u001b[0;34m(\u001b[0m\u001b[0;34m'UTT.+\\n'\u001b[0m\u001b[0;34m,\u001b[0m\u001b[0mi\u001b[0m\u001b[0;34m)\u001b[0m\u001b[0;34m[\u001b[0m\u001b[0;36m1\u001b[0m\u001b[0;34m]\u001b[0m\u001b[0;34m\u001b[0m\u001b[0;34m\u001b[0m\u001b[0m\n\u001b[1;32m     10\u001b[0m                 \u001b[0m_half\u001b[0m \u001b[0;34m=\u001b[0m \u001b[0mre\u001b[0m\u001b[0;34m.\u001b[0m\u001b[0msplit\u001b[0m\u001b[0;34m(\u001b[0m\u001b[0;34m'\\n\\.'\u001b[0m\u001b[0;34m,\u001b[0m\u001b[0m_half\u001b[0m\u001b[0;34m)\u001b[0m\u001b[0;34m[\u001b[0m\u001b[0;36m0\u001b[0m\u001b[0;34m]\u001b[0m\u001b[0;34m\u001b[0m\u001b[0;34m\u001b[0m\u001b[0m\n\u001b[0;32m---> 11\u001b[0;31m                 \u001b[0marvere\u001b[0m \u001b[0;34m=\u001b[0m \u001b[0;34m[\u001b[0m\u001b[0;34m'UTT'\u001b[0m\u001b[0;34m,\u001b[0m \u001b[0mct\u001b[0m\u001b[0;34m.\u001b[0m\u001b[0mrecursive_split\u001b[0m\u001b[0;34m(\u001b[0m\u001b[0m_half\u001b[0m\u001b[0;34m)\u001b[0m\u001b[0;34m]\u001b[0m\u001b[0;34m\u001b[0m\u001b[0;34m\u001b[0m\u001b[0m\n\u001b[0m\u001b[1;32m     12\u001b[0m             \u001b[0mutt_list\u001b[0m\u001b[0;34m.\u001b[0m\u001b[0mappend\u001b[0m\u001b[0;34m(\u001b[0m\u001b[0marvere\u001b[0m\u001b[0;34m)\u001b[0m\u001b[0;34m\u001b[0m\u001b[0;34m\u001b[0m\u001b[0m\n\u001b[1;32m     13\u001b[0m     \u001b[0;32mreturn\u001b[0m \u001b[0mutt_list\u001b[0m\u001b[0;34m\u001b[0m\u001b[0;34m\u001b[0m\u001b[0m\n",
      "\u001b[0;32m~/Documentos/Repos/complexidade_textual/complexidade_textual.py\u001b[0m in \u001b[0;36mrecursive_split\u001b[0;34m(text)\u001b[0m\n\u001b[1;32m    145\u001b[0m             \u001b[0mnodes\u001b[0m \u001b[0;34m=\u001b[0m \u001b[0mre\u001b[0m\u001b[0;34m.\u001b[0m\u001b[0msplit\u001b[0m\u001b[0;34m(\u001b[0m\u001b[0;34mr'(^\\w.+\\n)'\u001b[0m\u001b[0;34m,\u001b[0m \u001b[0mi\u001b[0m\u001b[0;34m)\u001b[0m\u001b[0;34m\u001b[0m\u001b[0;34m\u001b[0m\u001b[0m\n\u001b[1;32m    146\u001b[0m             \u001b[0mequal_remove\u001b[0m \u001b[0;34m=\u001b[0m \u001b[0mre\u001b[0m\u001b[0;34m.\u001b[0m\u001b[0msub\u001b[0m\u001b[0;34m(\u001b[0m\u001b[0meq_sub\u001b[0m\u001b[0;34m,\u001b[0m \u001b[0;34m''\u001b[0m\u001b[0;34m,\u001b[0m \u001b[0mnodes\u001b[0m\u001b[0;34m[\u001b[0m\u001b[0;36m2\u001b[0m\u001b[0;34m]\u001b[0m\u001b[0;34m)\u001b[0m\u001b[0;34m\u001b[0m\u001b[0;34m\u001b[0m\u001b[0m\n\u001b[0;32m--> 147\u001b[0;31m             \u001b[0mcurrent_level\u001b[0m\u001b[0;34m.\u001b[0m\u001b[0mappend\u001b[0m\u001b[0;34m(\u001b[0m\u001b[0;34m[\u001b[0m\u001b[0mnodes\u001b[0m\u001b[0;34m[\u001b[0m\u001b[0;36m1\u001b[0m\u001b[0;34m]\u001b[0m\u001b[0;34m,\u001b[0m \u001b[0mrecursive_split\u001b[0m\u001b[0;34m(\u001b[0m\u001b[0mequal_remove\u001b[0m\u001b[0;34m)\u001b[0m\u001b[0;34m]\u001b[0m\u001b[0;34m)\u001b[0m\u001b[0;34m\u001b[0m\u001b[0;34m\u001b[0m\u001b[0m\n\u001b[0m\u001b[1;32m    148\u001b[0m         \u001b[0;32melse\u001b[0m\u001b[0;34m:\u001b[0m\u001b[0;34m\u001b[0m\u001b[0;34m\u001b[0m\u001b[0m\n\u001b[1;32m    149\u001b[0m             \u001b[0mcurrent_level\u001b[0m\u001b[0;34m.\u001b[0m\u001b[0mappend\u001b[0m\u001b[0;34m(\u001b[0m\u001b[0;34m[\u001b[0m\u001b[0mi\u001b[0m\u001b[0;34m]\u001b[0m\u001b[0;34m)\u001b[0m\u001b[0;34m\u001b[0m\u001b[0;34m\u001b[0m\u001b[0m\n",
      "\u001b[0;32m~/Documentos/Repos/complexidade_textual/complexidade_textual.py\u001b[0m in \u001b[0;36mrecursive_split\u001b[0;34m(text)\u001b[0m\n\u001b[1;32m    145\u001b[0m             \u001b[0mnodes\u001b[0m \u001b[0;34m=\u001b[0m \u001b[0mre\u001b[0m\u001b[0;34m.\u001b[0m\u001b[0msplit\u001b[0m\u001b[0;34m(\u001b[0m\u001b[0;34mr'(^\\w.+\\n)'\u001b[0m\u001b[0;34m,\u001b[0m \u001b[0mi\u001b[0m\u001b[0;34m)\u001b[0m\u001b[0;34m\u001b[0m\u001b[0;34m\u001b[0m\u001b[0m\n\u001b[1;32m    146\u001b[0m             \u001b[0mequal_remove\u001b[0m \u001b[0;34m=\u001b[0m \u001b[0mre\u001b[0m\u001b[0;34m.\u001b[0m\u001b[0msub\u001b[0m\u001b[0;34m(\u001b[0m\u001b[0meq_sub\u001b[0m\u001b[0;34m,\u001b[0m \u001b[0;34m''\u001b[0m\u001b[0;34m,\u001b[0m \u001b[0mnodes\u001b[0m\u001b[0;34m[\u001b[0m\u001b[0;36m2\u001b[0m\u001b[0;34m]\u001b[0m\u001b[0;34m)\u001b[0m\u001b[0;34m\u001b[0m\u001b[0;34m\u001b[0m\u001b[0m\n\u001b[0;32m--> 147\u001b[0;31m             \u001b[0mcurrent_level\u001b[0m\u001b[0;34m.\u001b[0m\u001b[0mappend\u001b[0m\u001b[0;34m(\u001b[0m\u001b[0;34m[\u001b[0m\u001b[0mnodes\u001b[0m\u001b[0;34m[\u001b[0m\u001b[0;36m1\u001b[0m\u001b[0;34m]\u001b[0m\u001b[0;34m,\u001b[0m \u001b[0mrecursive_split\u001b[0m\u001b[0;34m(\u001b[0m\u001b[0mequal_remove\u001b[0m\u001b[0;34m)\u001b[0m\u001b[0;34m]\u001b[0m\u001b[0;34m)\u001b[0m\u001b[0;34m\u001b[0m\u001b[0;34m\u001b[0m\u001b[0m\n\u001b[0m\u001b[1;32m    148\u001b[0m         \u001b[0;32melse\u001b[0m\u001b[0;34m:\u001b[0m\u001b[0;34m\u001b[0m\u001b[0;34m\u001b[0m\u001b[0m\n\u001b[1;32m    149\u001b[0m             \u001b[0mcurrent_level\u001b[0m\u001b[0;34m.\u001b[0m\u001b[0mappend\u001b[0m\u001b[0;34m(\u001b[0m\u001b[0;34m[\u001b[0m\u001b[0mi\u001b[0m\u001b[0;34m]\u001b[0m\u001b[0;34m)\u001b[0m\u001b[0;34m\u001b[0m\u001b[0;34m\u001b[0m\u001b[0m\n",
      "\u001b[0;32m~/Documentos/Repos/complexidade_textual/complexidade_textual.py\u001b[0m in \u001b[0;36mrecursive_split\u001b[0;34m(text)\u001b[0m\n\u001b[1;32m    145\u001b[0m             \u001b[0mnodes\u001b[0m \u001b[0;34m=\u001b[0m \u001b[0mre\u001b[0m\u001b[0;34m.\u001b[0m\u001b[0msplit\u001b[0m\u001b[0;34m(\u001b[0m\u001b[0;34mr'(^\\w.+\\n)'\u001b[0m\u001b[0;34m,\u001b[0m \u001b[0mi\u001b[0m\u001b[0;34m)\u001b[0m\u001b[0;34m\u001b[0m\u001b[0;34m\u001b[0m\u001b[0m\n\u001b[1;32m    146\u001b[0m             \u001b[0mequal_remove\u001b[0m \u001b[0;34m=\u001b[0m \u001b[0mre\u001b[0m\u001b[0;34m.\u001b[0m\u001b[0msub\u001b[0m\u001b[0;34m(\u001b[0m\u001b[0meq_sub\u001b[0m\u001b[0;34m,\u001b[0m \u001b[0;34m''\u001b[0m\u001b[0;34m,\u001b[0m \u001b[0mnodes\u001b[0m\u001b[0;34m[\u001b[0m\u001b[0;36m2\u001b[0m\u001b[0;34m]\u001b[0m\u001b[0;34m)\u001b[0m\u001b[0;34m\u001b[0m\u001b[0;34m\u001b[0m\u001b[0m\n\u001b[0;32m--> 147\u001b[0;31m             \u001b[0mcurrent_level\u001b[0m\u001b[0;34m.\u001b[0m\u001b[0mappend\u001b[0m\u001b[0;34m(\u001b[0m\u001b[0;34m[\u001b[0m\u001b[0mnodes\u001b[0m\u001b[0;34m[\u001b[0m\u001b[0;36m1\u001b[0m\u001b[0;34m]\u001b[0m\u001b[0;34m,\u001b[0m \u001b[0mrecursive_split\u001b[0m\u001b[0;34m(\u001b[0m\u001b[0mequal_remove\u001b[0m\u001b[0;34m)\u001b[0m\u001b[0;34m]\u001b[0m\u001b[0;34m)\u001b[0m\u001b[0;34m\u001b[0m\u001b[0;34m\u001b[0m\u001b[0m\n\u001b[0m\u001b[1;32m    148\u001b[0m         \u001b[0;32melse\u001b[0m\u001b[0;34m:\u001b[0m\u001b[0;34m\u001b[0m\u001b[0;34m\u001b[0m\u001b[0m\n\u001b[1;32m    149\u001b[0m             \u001b[0mcurrent_level\u001b[0m\u001b[0;34m.\u001b[0m\u001b[0mappend\u001b[0m\u001b[0;34m(\u001b[0m\u001b[0;34m[\u001b[0m\u001b[0mi\u001b[0m\u001b[0;34m]\u001b[0m\u001b[0;34m)\u001b[0m\u001b[0;34m\u001b[0m\u001b[0;34m\u001b[0m\u001b[0m\n",
      "\u001b[0;32m~/Documentos/Repos/complexidade_textual/complexidade_textual.py\u001b[0m in \u001b[0;36mrecursive_split\u001b[0;34m(text)\u001b[0m\n\u001b[1;32m    144\u001b[0m         \u001b[0;32mif\u001b[0m \u001b[0mre\u001b[0m\u001b[0;34m.\u001b[0m\u001b[0msearch\u001b[0m\u001b[0;34m(\u001b[0m\u001b[0;34m'='\u001b[0m\u001b[0;34m,\u001b[0m \u001b[0mi\u001b[0m\u001b[0;34m)\u001b[0m\u001b[0;34m:\u001b[0m\u001b[0;34m\u001b[0m\u001b[0;34m\u001b[0m\u001b[0m\n\u001b[1;32m    145\u001b[0m             \u001b[0mnodes\u001b[0m \u001b[0;34m=\u001b[0m \u001b[0mre\u001b[0m\u001b[0;34m.\u001b[0m\u001b[0msplit\u001b[0m\u001b[0;34m(\u001b[0m\u001b[0;34mr'(^\\w.+\\n)'\u001b[0m\u001b[0;34m,\u001b[0m \u001b[0mi\u001b[0m\u001b[0;34m)\u001b[0m\u001b[0;34m\u001b[0m\u001b[0;34m\u001b[0m\u001b[0m\n\u001b[0;32m--> 146\u001b[0;31m             \u001b[0mequal_remove\u001b[0m \u001b[0;34m=\u001b[0m \u001b[0mre\u001b[0m\u001b[0;34m.\u001b[0m\u001b[0msub\u001b[0m\u001b[0;34m(\u001b[0m\u001b[0meq_sub\u001b[0m\u001b[0;34m,\u001b[0m \u001b[0;34m''\u001b[0m\u001b[0;34m,\u001b[0m \u001b[0mnodes\u001b[0m\u001b[0;34m[\u001b[0m\u001b[0;36m2\u001b[0m\u001b[0;34m]\u001b[0m\u001b[0;34m)\u001b[0m\u001b[0;34m\u001b[0m\u001b[0;34m\u001b[0m\u001b[0m\n\u001b[0m\u001b[1;32m    147\u001b[0m             \u001b[0mcurrent_level\u001b[0m\u001b[0;34m.\u001b[0m\u001b[0mappend\u001b[0m\u001b[0;34m(\u001b[0m\u001b[0;34m[\u001b[0m\u001b[0mnodes\u001b[0m\u001b[0;34m[\u001b[0m\u001b[0;36m1\u001b[0m\u001b[0;34m]\u001b[0m\u001b[0;34m,\u001b[0m \u001b[0mrecursive_split\u001b[0m\u001b[0;34m(\u001b[0m\u001b[0mequal_remove\u001b[0m\u001b[0;34m)\u001b[0m\u001b[0;34m]\u001b[0m\u001b[0;34m)\u001b[0m\u001b[0;34m\u001b[0m\u001b[0;34m\u001b[0m\u001b[0m\n\u001b[1;32m    148\u001b[0m         \u001b[0;32melse\u001b[0m\u001b[0;34m:\u001b[0m\u001b[0;34m\u001b[0m\u001b[0;34m\u001b[0m\u001b[0m\n",
      "\u001b[0;31mIndexError\u001b[0m: list index out of range"
     ]
    }
   ],
   "source": [
    "paths,docs  = ct.corpus_reader('./corpora/redacoes_parseadas')\n",
    "redacoes = []\n",
    "\n",
    "i=0\n",
    "for path in paths[:5]:\n",
    "    print(i)\n",
    "    print(path)\n",
    "    list_tree(path)\n",
    "    i+=1"
   ]
  },
  {
   "cell_type": "code",
   "execution_count": 21,
   "metadata": {},
   "outputs": [
    {
     "data": {
      "text/plain": [
       "document.Document"
      ]
     },
     "execution_count": 21,
     "metadata": {},
     "output_type": "execute_result"
    }
   ],
   "source": [
    "type(paths[0])"
   ]
  }
 ],
 "metadata": {
  "kernelspec": {
   "display_name": "Python 3",
   "language": "python",
   "name": "python3"
  },
  "language_info": {
   "codemirror_mode": {
    "name": "ipython",
    "version": 3
   },
   "file_extension": ".py",
   "mimetype": "text/x-python",
   "name": "python",
   "nbconvert_exporter": "python",
   "pygments_lexer": "ipython3",
   "version": "3.6.10"
  }
 },
 "nbformat": 4,
 "nbformat_minor": 2
}
