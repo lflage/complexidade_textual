{
 "cells": [
  {
   "cell_type": "code",
   "execution_count": 2,
   "metadata": {},
   "outputs": [],
   "source": [
    "import spacy\n",
    "import os\n",
    "import re\n",
    "import nltk\n",
    "from gensim.models import Phrases\n",
    "from document import Document\n",
    "from unicodedata import normalize\n"
   ]
  },
  {
   "cell_type": "code",
   "execution_count": 3,
   "metadata": {},
   "outputs": [],
   "source": [
    "def remover_acentos(txt):\n",
    "    return normalize('NFKD', txt).encode('ASCII', 'ignore').decode('ASCII')\n",
    "\n",
    "def chunks(lst, n):\n",
    "    \"\"\"Yield successive n-sized chunks from lst.\"\"\"\n",
    "    for i in range(0, len(lst), n):\n",
    "        yield lst[i:i + n]\n",
    "        \n",
    "def pre_process(text):\n",
    "    nlp = spacy.load('pt_core_news_sm')\n",
    "    doc = nlp(text)\n",
    "    text = ' '.join([token.text for token in doc if token.is_alpha == True])\n",
    "    text = remover_acentos(text)\n",
    "    return text"
   ]
  },
  {
   "cell_type": "markdown",
   "metadata": {},
   "source": [
    "# Criando dump com sentenças"
   ]
  },
  {
   "cell_type": "code",
   "execution_count": 3,
   "metadata": {},
   "outputs": [],
   "source": [
    "# Cria o dump com \"sentenças\"\n",
    "if 0 == 1:\n",
    "    with open('./corpora/ptwiki.txt','r') as file:\n",
    "        wiki = file.read()\n",
    "\n",
    "    wiki_frases = wiki.split()\n",
    "    wiki_doc = list(chunks(wiki_frases,20))\n",
    "\n",
    "    with open('./corpora/wiki_sent.txt','w') as file:\n",
    "        for sentence in wiki_doc:\n",
    "            file.write(' '.join(sentence) + '\\n')"
   ]
  },
  {
   "cell_type": "code",
   "execution_count": 5,
   "metadata": {},
   "outputs": [],
   "source": [
    "# Leitura do dump da wikipedia em formato sentenças\n",
    "if 0==0:\n",
    "    wiki_doc = []\n",
    "    with open('./corpora/wiki_sent.txt','r') as file:\n",
    "        for line in file.readlines():\n",
    "            wiki_doc.append(line.split())\n"
   ]
  },
  {
   "cell_type": "markdown",
   "metadata": {},
   "source": [
    "## Modelo para geração de bigramas"
   ]
  },
  {
   "cell_type": "code",
   "execution_count": 6,
   "metadata": {},
   "outputs": [],
   "source": [
    "# Gera o modelo, ou carrega o modelo já salvo\n",
    "if 0 == 1:\n",
    "    wiki_bigram_model = Phrases(wiki_doc)\n",
    "    wiki_bigram_model.save('./n_gram_models/bigram_gen_model')\n",
    "\n",
    "else:\n",
    "    wiki_bigram_model = Phrases.load('./n_gram_models/bigram_gen_model')"
   ]
  },
  {
   "cell_type": "markdown",
   "metadata": {},
   "source": [
    "## Modelo para geração de trigramas"
   ]
  },
  {
   "cell_type": "code",
   "execution_count": 12,
   "metadata": {},
   "outputs": [],
   "source": [
    "# Gera corpus wiki com bigramas\n",
    "if 0 == 1:\n",
    "    with open('./corpora/wiki_bigrams.txt','w') as file:    \n",
    "        for sent in wiki_doc:\n",
    "            bigram_wiki_sentence = ' '.join(wiki_bigram_model[sent])\n",
    "            file.write(bigram_wiki_sentence + '\\n')\n",
    "\n"
   ]
  },
  {
   "cell_type": "code",
   "execution_count": 13,
   "metadata": {},
   "outputs": [],
   "source": [
    "wiki_bigram_sents = []\n",
    "with open('./corpora/wiki_bigrams.txt','r') as file:\n",
    "    for line in file.readlines():\n",
    "        wiki_bigram_sents.append(line.split())"
   ]
  },
  {
   "cell_type": "code",
   "execution_count": 14,
   "metadata": {},
   "outputs": [],
   "source": [
    "if 0 ==1:\n",
    "    wiki_trigram_model = Phrases(wiki_bigram_sents)\n",
    "    wiki_trigram_model.save('./n_gram_models/trigram_gen_model')"
   ]
  },
  {
   "cell_type": "markdown",
   "metadata": {},
   "source": [
    "# Leitura de redações"
   ]
  },
  {
   "cell_type": "code",
   "execution_count": 6,
   "metadata": {},
   "outputs": [],
   "source": [
    "# leitura de arquivos\n",
    "\n",
    "prog = re.compile('(\\.xml)$')\n",
    "prop = re.compile('(prompt)')\n",
    "doc_list = []\n",
    "\n",
    "f = []\n",
    "fps = []\n",
    "for dirpath, dirnames, filenames in os.walk(\"./corpora/Redações\"):\n",
    "    for filename in filenames:\n",
    "        fps.append(os.path.normpath(os.path.join(dirpath,filename)))\n",
    "            \n",
    "for path in fps:\n",
    "    if re.search(prog,path):\n",
    "        doc = Document(path)\n",
    "        doc.read()\n",
    "        doc_list.append(doc.get_body())\n",
    "        "
   ]
  },
  {
   "cell_type": "code",
   "execution_count": 7,
   "metadata": {},
   "outputs": [],
   "source": [
    "nlp = spacy.load('pt_core_news_sm')"
   ]
  },
  {
   "cell_type": "code",
   "execution_count": 37,
   "metadata": {},
   "outputs": [],
   "source": [
    "sent_tokenizer = nltk.data.load('tokenizers/punkt/portuguese.pickle')\n",
    "\n",
    "redacao = re.sub('\\s{2,}',' ',doc_list[1]).strip()\n",
    "sentencas = sent_tokenizer.tokenize(redacao)"
   ]
  },
  {
   "cell_type": "code",
   "execution_count": 61,
   "metadata": {},
   "outputs": [
    {
     "name": "stdout",
     "output_type": "stream",
     "text": [
      "em noventa apos vinte_anos de ditadura_militar no brasil o povo elege democraticamente o seu primeiro presidente da_republica\n",
      "\n",
      "com o passar das eleicoes o voto nulo tem um aumento_significativo expressado por uma minoria da populacao mas sera que o voto nulo e valido\n",
      "\n",
      "e preciso antes de tudo saber o que leva o cidadao a votar nulo\n",
      "\n",
      "o voto nulo esta ligado diretamente a uma forma de protesto mostrando a insatisfacao ou descrenca com a politica e os politicos atuais sao varios escandalos como o mensalao que forca cada_vez mais os eleitores a votarem nulo\n",
      "\n",
      "alem d isso a democracia nos assegura o direito constitucional tornando o voto nulo valido\n",
      "\n",
      "grande parte da populacao brasileira ainda sao leigos quando o assunto e politica muita das vezes interpreta mal o real significado do voto nulo sendo assim com tal ignorancia como diria thomas_hobbes o homem e o lobo do homem\n",
      "\n",
      "portanto desde a ditadura_militar a consciencia politica da populacao brasileira vem aumento mas para o voto nulo ganhar mais forcas deve se implementar uma nova grade especifica sobre politica em todas escolas publicas do ensino_fundamental a o medio a midia deve constantemente conscientizar cada_vez mais a populacao sobre a politica so assim teremos um voto nulo totalmente valido\n",
      "\n"
     ]
    }
   ],
   "source": [
    "with open('./n_gram_models/n_grams/bigrams_file', 'w', encoding='utf_8') as f:\n",
    "    for sent in sentencas:\n",
    "        bigram_sentence = u' '.join(wiki_bigram_model[pre_process(sent).lower().split()])\n",
    "        print(bigram_sentence+'\\n')\n",
    "        f.write(bigram_sentence + '\\n')"
   ]
  },
  {
   "cell_type": "code",
   "execution_count": 16,
   "metadata": {},
   "outputs": [
    {
     "name": "stdout",
     "output_type": "stream",
     "text": [
      "em noventa apos vinte_anos de ditadura_militar no brasil o povo elege democraticamente o seu primeiro presidente_da_republica\n",
      "com o passar das eleicoes o voto nulo tem um aumento_significativo expressado por uma minoria da populacao mas sera que o voto nulo e valido\n",
      "e preciso antes de tudo saber o que leva o cidadao a votar nulo\n",
      "o voto nulo esta ligado diretamente a uma forma de protesto mostrando a insatisfacao ou descrenca com a politica e os politicos atuais sao varios escandalos como o mensalao que forca cada_vez_mais os eleitores a votarem nulo\n",
      "alem d isso a democracia nos assegura o direito constitucional tornando o voto nulo valido\n",
      "grande parte da populacao brasileira ainda sao leigos quando o assunto e politica muita das vezes interpreta mal o real significado do voto nulo sendo assim com tal ignorancia como diria thomas_hobbes o homem e o lobo do homem\n",
      "portanto desde a ditadura_militar a consciencia politica da populacao brasileira vem aumento mas para o voto nulo ganhar mais forcas deve se implementar uma nova grade especifica sobre politica em todas escolas publicas do ensino_fundamental a o medio a midia deve constantemente conscientizar cada_vez_mais a populacao sobre a politica so assim teremos um voto nulo totalmente valido\n"
     ]
    }
   ],
   "source": [
    "with open('./n_gram_models/n_grams/bigrams_file', 'r', encoding='utf_8') as f:\n",
    "    for sent in f.readlines():\n",
    "        trigram_sentence = u' '.join(wiki_trigram_model[sent.split()])\n",
    "        print(trigram_sentence)"
   ]
  },
  {
   "cell_type": "code",
   "execution_count": 7,
   "metadata": {},
   "outputs": [
    {
     "name": "stdout",
     "output_type": "stream",
     "text": [
      "meu DET\n",
      "deus NOUN\n",
      ", PUNCT\n",
      "os DET\n",
      "caras SYM\n",
      "do ADP\n",
      "charlie NOUN\n",
      "brown ADJ\n",
      "invadiram VERB\n",
      "a DET\n",
      "cidade NOUN\n",
      "! PUNCT\n"
     ]
    }
   ],
   "source": [
    "nlp = spacy.load('pt_core_news_sm')\n",
    "doc = nlp('meu deus, os caras do charlie brown invadiram a cidade!')\n",
    "\n",
    "for token in doc:\n",
    "    print(token.text, token.pos_)"
   ]
  },
  {
   "cell_type": "markdown",
   "metadata": {},
   "source": [
    "# Testes"
   ]
  },
  {
   "cell_type": "code",
   "execution_count": 2,
   "metadata": {},
   "outputs": [
    {
     "name": "stdout",
     "output_type": "stream",
     "text": [
      "meu\n",
      "piru\n"
     ]
    }
   ],
   "source": [
    "corda = 'meu\\npiru'\n",
    "print(corda)\n",
    "re.search()"
   ]
  },
  {
   "cell_type": "code",
   "execution_count": null,
   "metadata": {},
   "outputs": [],
   "source": [
    "with open('corpora/ptwiki_text.txt') as f:\n",
    "    count=0\n",
    "    for line in f:\n",
    "        count+=1\n",
    "    print(count)"
   ]
  }
 ],
 "metadata": {
  "kernelspec": {
   "display_name": "Python 3",
   "language": "python",
   "name": "python3"
  },
  "language_info": {
   "codemirror_mode": {
    "name": "ipython",
    "version": 3
   },
   "file_extension": ".py",
   "mimetype": "text/x-python",
   "name": "python",
   "nbconvert_exporter": "python",
   "pygments_lexer": "ipython3",
   "version": "3.6.10"
  }
 },
 "nbformat": 4,
 "nbformat_minor": 4
}
